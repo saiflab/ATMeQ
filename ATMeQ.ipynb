{
  "nbformat": 4,
  "nbformat_minor": 0,
  "metadata": {
    "colab": {
      "provenance": [],
      "gpuType": "V28"
    },
    "kernelspec": {
      "name": "python3",
      "display_name": "Python 3"
    },
    "language_info": {
      "name": "python"
    },
    "accelerator": "TPU"
  },
  "cells": [
    {
      "cell_type": "code",
      "execution_count": null,
      "metadata": {
        "id": "z-SIPCulmDJN",
        "cellView": "form"
      },
      "outputs": [],
      "source": [
        "# @title Import Libraries & Required Files\n",
        "!git clone https://github.com/saiflab/ATMeQ.git\n",
        "# Import numpy\n",
        "import numpy as np\n",
        "# Import pandas\n",
        "import pandas as pd\n",
        "# Import seaborn\n",
        "import seaborn as sns\n",
        "# Import matplotlib\n",
        "import matplotlib.pyplot as plt\n",
        "%matplotlib inline\n",
        "import pickle\n",
        "from sklearn.preprocessing import StandardScaler\n"
      ]
    },
    {
      "cell_type": "code",
      "source": [
        "# @title Load ATMeQ ML Model\n",
        "# Load the ATMeQ model using pickle\n",
        "with open('/content/ATMeQ/ATMeQ.pkl', 'rb') as f:\n",
        "    ATMeQ_model = pickle.load(f)\n"
      ],
      "metadata": {
        "id": "v4nqYLdYvH-r",
        "cellView": "form"
      },
      "execution_count": 2,
      "outputs": []
    },
    {
      "cell_type": "code",
      "source": [
        "# @title Upload Input (RNA-Seq) File\n",
        "# Step 1: Import the necessary library for file upload\n",
        "from google.colab import files\n",
        "\n",
        "# Step 2: Prompt the user to upload a CSV file from their local computer\n",
        "# This will open a file selection dialog to choose the file to upload.\n",
        "uploaded = files.upload()\n",
        "\n",
        "# Step 3: Notify the user that the upload process is complete\n",
        "# The 'uploaded' dictionary will contain the uploaded file(s) as key-value pairs (filename: file content).\n",
        "print(\"Upload complete! You can now use the uploaded file(s).\")\n"
      ],
      "metadata": {
        "id": "r33x8JW3oJts",
        "cellView": "form"
      },
      "execution_count": null,
      "outputs": []
    },
    {
      "cell_type": "code",
      "source": [
        "# @title Pre-processing Data\n",
        "# Step-by-step process to read and load a CSV file into a pandas DataFrame\n",
        "\n",
        "# Step 1: Display the names of the uploaded files\n",
        "# This will print the names of any files that have been uploaded.\n",
        "for filename in uploaded.keys():\n",
        "    print(f'Uploaded file: {filename}')\n",
        "\n",
        "# Step 2: Check if any files were uploaded\n",
        "if uploaded:\n",
        "    # Step 3: Get the name of the first uploaded file\n",
        "    file_name = list(uploaded.keys())[0]\n",
        "\n",
        "    # Step 4: Load the file into a pandas DataFrame\n",
        "    # The 'header=0' specifies that the first row contains column names.\n",
        "    # The 'index_col=0' means the first column will be used as the index.\n",
        "    df = pd.read_csv(file_name, header=0, index_col=0)\n",
        "\n",
        "    # Confirm that the file has been successfully loaded\n",
        "    print(f'The file \"{file_name}\" has been successfully loaded into the DataFrame called \"df\".')\n",
        "else:\n",
        "    # Step 5: Let the user know no files were uploaded\n",
        "    print('No CSV file was uploaded. Please upload a file to continue.')\n",
        "\n",
        "# List of selected gene columns\n",
        "selected_columns = [\n",
        "    'UTY', 'MIR12120', 'HTR6', 'NPY5R', 'TFAP2B', 'CHRNA6', 'BALR6', 'GPR50', 'HAND2', 'CD70', 'ESM1', 'ITGB4', 'OTOF', 'ZIM2', 'ASNSP1', 'CBLN4', 'PEG3-AS1', 'WNT3A', 'PAX3', 'NR4A2'\n",
        "]\n",
        "# Select the columns that are present in the DataFrame\n",
        "df_selected = df[selected_columns] if all(col in df.columns for col in selected_columns) else None\n",
        "\n",
        "# Check if the selection was successful\n",
        "if df_selected is not None:\n",
        "    print(\"Selected columns have been successfully extracted.\")\n",
        "else:\n",
        "    print(\"Some columns were not found in the DataFrame.\")\n",
        "\n",
        "# Step 1: Assign the selected DataFrame to the variable 'X'\n",
        "# Assuming 'df_selected' is already defined and contains the selected data from the original DataFrame.\n",
        "X = df_selected\n",
        "\n",
        "# Step 2: Ensure 'X' is explicitly converted into a pandas DataFrame\n",
        "# This is useful if 'df_selected' might not already be a DataFrame (e.g., it could be a Series or other data structure).\n",
        "X = pd.DataFrame(X)\n",
        "\n",
        "# Step 3: Display the DataFrame to confirm its contents\n",
        "X.head()\n"
      ],
      "metadata": {
        "id": "nEnkwdnToYGU",
        "cellView": "form"
      },
      "execution_count": null,
      "outputs": []
    },
    {
      "cell_type": "code",
      "source": [
        "# @title Scaling Data\n",
        "# Initialize the scaler\n",
        "scaler = StandardScaler()\n",
        "\n",
        "# Fit the scaler on the data and transform it\n",
        "X_scaled = scaler.fit_transform(X)\n",
        "\n",
        "# Now, X_scaled contains the scaled data and can be used for predictions\n"
      ],
      "metadata": {
        "id": "kThEm07Nu4F6",
        "cellView": "form"
      },
      "execution_count": 8,
      "outputs": []
    },
    {
      "cell_type": "code",
      "source": [
        "# @title Make Predictions\n",
        "#Import the ATMeQ model\n",
        "ATMeQ = ATMeQ_model\n",
        "#Run ATMeQ\n",
        "ATMeQ_predictions = ATMeQ.predict(X_scaled)\n",
        "#Convert the ATMeQ_predictions to a dataframe\n",
        "ATMeQ_predictions = pd.DataFrame(ATMeQ_predictions, columns=['Predictions'])\n",
        "#Map the predictions: 0 as Non-AD and 1 as AD\n",
        "ATMeQ_predictions['Predictions'] = ATMeQ_predictions['Predictions'].map({0: 'Non-ALS', 1: 'ALS'})\n",
        "#Add the sample column next to predictions\n",
        "ATMeQ_predictions['Sample'] = X.index\n",
        "predictions = ATMeQ.predict(X)"
      ],
      "metadata": {
        "id": "KCw2mlptvhMH",
        "cellView": "form"
      },
      "execution_count": null,
      "outputs": []
    },
    {
      "cell_type": "code",
      "source": [
        "# @title View Results\n",
        "ATMeQ_predictions"
      ],
      "metadata": {
        "id": "lX92M-qZzNSW",
        "cellView": "form"
      },
      "execution_count": null,
      "outputs": []
    },
    {
      "cell_type": "code",
      "source": [
        "# @title Save the Results\n",
        "# Specify the file path where you want to save the .csv file in Colab\n",
        "csv_file_path = '/content/ATMeQ_predictions.csv'\n",
        "\n",
        "# Save the DataFrame as a .csv file\n",
        "ATMeQ_predictions.to_csv(csv_file_path, index=False)\n",
        "\n",
        "# Download the .csv file to your local machine\n",
        "from google.colab import files\n",
        "files.download(csv_file_path)"
      ],
      "metadata": {
        "id": "oascdr2Jn1ks",
        "cellView": "form"
      },
      "execution_count": null,
      "outputs": []
    }
  ]
}